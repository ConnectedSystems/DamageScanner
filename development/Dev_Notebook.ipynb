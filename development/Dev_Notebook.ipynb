{
 "cells": [
  {
   "cell_type": "code",
   "execution_count": 1,
   "metadata": {},
   "outputs": [],
   "source": [
    "%matplotlib inline\n",
    "import os\n",
    "import numpy\n",
    "import rasterio\n",
    "import pandas\n",
    "from rasterio.plot import show\n",
    "data_path = '..'"
   ]
  },
  {
   "cell_type": "code",
   "execution_count": 83,
   "metadata": {},
   "outputs": [
    {
     "data": {
      "text/plain": [
       "rasterio.env.Env"
      ]
     },
     "execution_count": 83,
     "metadata": {},
     "output_type": "execute_result"
    }
   ],
   "source": [
    "rasterio."
   ]
  },
  {
   "cell_type": "code",
   "execution_count": 2,
   "metadata": {},
   "outputs": [],
   "source": [
    "inun_map = os.path.join(data_path,'data','inundation','inundation_map.tif')\n",
    "landuse_map = os.path.join(data_path,'data','landuse','landuse_map.tif')"
   ]
  },
  {
   "cell_type": "code",
   "execution_count": 3,
   "metadata": {},
   "outputs": [],
   "source": [
    "curve_path = os.path.join(data_path,'data','curves','curves.csv')\n",
    "maxdam_path = os.path.join(data_path,'data','curves','maxdam.csv')"
   ]
  },
  {
   "cell_type": "code",
   "execution_count": 95,
   "metadata": {},
   "outputs": [],
   "source": [
    "def RasterScanner(landuse_map,inun_map,curve_path,maxdam_path,save=False,**kwargs):\n",
    "    \"\"\"\n",
    "    Raster-based implementation of a direct damage assessment.\n",
    "    \n",
    "    # INPUT PARAMETERS:\n",
    "     landuse_map       Land-use map. Make sure the land-use categories\n",
    "                       correspond with the curves and maximum damages (see\n",
    "                       below). Furthermore, the resolution and extend of the\n",
    "                       land-use map has to be exactly the same as the\n",
    "                       inundation map\n",
    "     inun_map          Map with inundation depth per grid cell. Make sure that\n",
    "                       the unit of the inundation map corresponds with the unit of the first\n",
    "                       column of the curves file\n",
    "     curve_path        File with the stage-damage curves of the different\n",
    "                       land-use classes.% \n",
    "     maxdam_path       Vector with the maximum damages per land-use class (in\n",
    "                       euro/m2)\n",
    "     cellsize\n",
    "\n",
    "    # OUTPUT PARAMETERS:\n",
    "     damagebin         Table with the land-use class numbers (1st) and the damage\n",
    "                       for that land-use class (2nd) \n",
    "     damagemap         Map displaying the damage per grid cell of the area\n",
    "    \n",
    "    \"\"\"      \n",
    "        \n",
    "    # load land-use map\n",
    "    if landuse_map.endswith('.tif'):\n",
    "        with rasterio.open(landuse_map) as src:\n",
    "            landuse = src.read()[0,:,:]\n",
    "            transform = src.transform\n",
    "    else:\n",
    "        landuse = landuse_map.copy()\n",
    "    \n",
    "    landuse_in = landuse.copy()\n",
    "    \n",
    "    # Load inundation map\n",
    "    if inun_map.endswith('.tif'):\n",
    "        with rasterio.open(inun_map) as src:\n",
    "            inundation = src.read()[0,:,:]\n",
    "    else:\n",
    "        inundation = inun_map.copy()\n",
    "        \n",
    "    # check if land-use and inundation map have the same shape. \n",
    "    if landuse.shape != inundation.shape:\n",
    "        print('ERROR: landuse and inundation maps are not the same shape. Fix this first')\n",
    "        return None\n",
    "\n",
    "    # set cellsize:\n",
    "    cellsize = src.res[0]*src.res[1]\n",
    "    \n",
    "    # Load curves\n",
    "    if isinstance(curve_path, pandas.DataFrame):\n",
    "        curves = curve_path.values    \n",
    "    elif curve_path.endswith('.csv'):\n",
    "        curves = pandas.read_csv(curve_path).values\n",
    "\n",
    "    #Load maximum damages\n",
    "    if isinstance(maxdam_path, pandas.DataFrame):\n",
    "        maxdam = maxdam_path.values #dict(zip(maxdam['landuse'],maxdam['damage']))\n",
    "    elif maxdam_path.endswith('.csv'):\n",
    "        maxdam = pandas.read_csv(maxdam_path,skiprows=1).values#dict(zip(pd.read_csv(maxdam_path)['landuse'],pd.read_csv(maxdam_path)['damage']))\n",
    "    \n",
    "    \n",
    "    # Speed up calculation by only considering feasible points\n",
    "    inundation[inundation>10] = 0\n",
    "    inun = inundation * (inundation>=0) + 0\n",
    "    inun[inun>=curves[:,0].max()] = curves[:,0].max()\n",
    "    area = inun > 0\n",
    "    waterdepth = inun[inun>0]\n",
    "    landuse = landuse[inun>0]\n",
    "\n",
    "    # Calculate damage per land-use class for structures\n",
    "    numberofclasses = len(maxdam)\n",
    "    alldamage = numpy.zeros(landuse.shape[0])\n",
    "    damagebin = numpy.empty((numberofclasses, 2,)) * numpy.nan\n",
    "    for i in range(0,numberofclasses):\n",
    "        n = maxdam[i,0]\n",
    "        damagebin[i,0] = n\n",
    "        wd = waterdepth[landuse==n]\n",
    "        alpha = numpy.interp(wd,((curves[:,0])),curves[:,i+1])\n",
    "        damage = alpha*(maxdam[i,1]*cellsize)\n",
    "        damagebin[i,1] = sum(damage)\n",
    "        alldamage[landuse==n] = damage\n",
    "\n",
    "    # create the damagemap\n",
    "    damagemap = numpy.zeros((area.shape[0],area.shape[1]), dtype='int32')\n",
    "    damagemap[area] = alldamage\n",
    "\n",
    "    # create pandas dataframe with output\n",
    "    loss_df = pandas.DataFrame(damagebin.astype(int),columns=['landuse','losses']).groupby('landuse').sum()\n",
    "    \n",
    "    if save:\n",
    "        # requires adding output_path and scenario_name to function call\n",
    "        if 'output_path' in kwargs:\n",
    "            output_path = kwargs['output_path']\n",
    "            if not os.path.exists(output_path):\n",
    "                os.mkdir(output_path)\n",
    "        if 'scenario_name' in kwargs:\n",
    "            scenario_name = kwargs['scenario_name']\n",
    "        if 'crs' in kwargs:\n",
    "            crs = kwargs['crs']\n",
    "        loss_df.to_csv(os.path.join(output_path,'{}_losses.csv'.format(scenario_name)))\n",
    "\n",
    "        with rasterio.open(os.path.join(output_path,'{}_damagemap.tif'.format(scenario_name)), 'w', \n",
    "                                        driver='GTiff', height=damagemap.shape[0],\n",
    "           width=damagemap.shape[1], count=1, dtype=damagemap.dtype, crs=crs, transform=transform,compress=\"LZW\",) as dst:\n",
    "                           dst.write(damagemap, 1)\n",
    "                \n",
    "    if 'in_millions' in kwargs:\n",
    "        loss_df = loss_df/1e6\n",
    "    \n",
    "    # return output\n",
    "    return loss_df,damagemap,landuse_in,inundation "
   ]
  },
  {
   "cell_type": "code",
   "execution_count": 97,
   "metadata": {},
   "outputs": [],
   "source": [
    "loss_df,damagemap,landuse,inundation = RasterScanner(landuse_map,inun_map,curve_path,maxdam_path,cellsize=25,save=False,\n",
    "                                                     in_millions=True)\n",
    "#,output_path=data_path,scenario_name='test',crs={'init': 'EPSG:28992'}"
   ]
  },
  {
   "cell_type": "code",
   "execution_count": 87,
   "metadata": {},
   "outputs": [],
   "source": [
    "if landuse_map.endswith('.tif'):\n",
    "        with rasterio.open(landuse_map) as src:\n",
    "            landuse = src.read()[0,:,:]\n",
    "            transform = src.transform"
   ]
  },
  {
   "cell_type": "code",
   "execution_count": 92,
   "metadata": {},
   "outputs": [
    {
     "data": {
      "text/plain": [
       "25.0"
      ]
     },
     "execution_count": 92,
     "metadata": {},
     "output_type": "execute_result"
    }
   ],
   "source": []
  },
  {
   "cell_type": "code",
   "execution_count": null,
   "metadata": {},
   "outputs": [],
   "source": []
  }
 ],
 "metadata": {
  "kernelspec": {
   "display_name": "Python 3",
   "language": "python",
   "name": "python3"
  },
  "language_info": {
   "codemirror_mode": {
    "name": "ipython",
    "version": 3
   },
   "file_extension": ".py",
   "mimetype": "text/x-python",
   "name": "python",
   "nbconvert_exporter": "python",
   "pygments_lexer": "ipython3",
   "version": "3.6.6"
  }
 },
 "nbformat": 4,
 "nbformat_minor": 2
}
